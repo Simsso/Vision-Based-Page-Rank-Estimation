{
 "cells": [
  {
   "cell_type": "markdown",
   "metadata": {},
   "source": [
    "# Feature maps observation"
   ]
  },
  {
   "cell_type": "code",
   "execution_count": 1,
   "metadata": {},
   "outputs": [],
   "source": [
    "import matplotlib\n",
    "import numpy as np\n",
    "import matplotlib.pyplot as plt\n",
    "%matplotlib inline\n",
    "\n",
    "import pickle\n",
    "import os"
   ]
  },
  {
   "cell_type": "code",
   "execution_count": 2,
   "metadata": {},
   "outputs": [],
   "source": [
    "with open('feature_maps.pickle', 'rb') as handle:\n",
    "    feature_maps = pickle.load(handle)"
   ]
  },
  {
   "cell_type": "code",
   "execution_count": 3,
   "metadata": {},
   "outputs": [],
   "source": [
    "def get_sample(i: int):\n",
    "    rank = feature_maps['rank'][i]\n",
    "    feat_d = feature_maps['feat_desktop'][i]\n",
    "    feat_m = feature_maps['feat_mobile'][i]\n",
    "    \n",
    "    return rank, feat_d, feat_m"
   ]
  },
  {
   "cell_type": "code",
   "execution_count": 4,
   "metadata": {},
   "outputs": [],
   "source": [
    "def show_activation(tensor: np.ndarray, num_channels: int = 3, channel_indices=None):\n",
    "    if channel_indices is None:\n",
    "        channels = tensor[:num_channels]\n",
    "    else:\n",
    "        channels = [tensor[x] for x in channel_indices]\n",
    "    mat = np.concatenate(channels, axis=1)\n",
    "    plt.figure(figsize = (20, 20))\n",
    "    imgplot = plt.imshow(mat, cmap='gray')"
   ]
  },
  {
   "cell_type": "code",
   "execution_count": 5,
   "metadata": {},
   "outputs": [],
   "source": [
    "def show_sample(num: int):\n",
    "    sample = get_sample(num)\n",
    "    \n",
    "    desktop = sample[1]\n",
    "    mobile = sample[2]\n",
    "    print(sample[0])\n",
    "    \n",
    "    show_activation(desktop['img'])\n",
    "    show_activation(desktop['conv1'], channel_indices=[0, 9, 10])\n",
    "    show_activation(desktop['conv2'], channel_indices=[0, 9, 10])\n",
    "    show_activation(desktop['conv3'], channel_indices=[30, 43, 66])\n",
    "    show_activation(desktop['conv4'], channel_indices=[32, 33, 53])"
   ]
  },
  {
   "cell_type": "code",
   "execution_count": null,
   "metadata": {},
   "outputs": [],
   "source": [
    "show_sample(1)"
   ]
  }
 ],
 "metadata": {
  "kernelspec": {
   "display_name": "Python 3",
   "language": "python",
   "name": "python3"
  },
  "language_info": {
   "codemirror_mode": {
    "name": "ipython",
    "version": 3
   },
   "file_extension": ".py",
   "mimetype": "text/x-python",
   "name": "python",
   "nbconvert_exporter": "python",
   "pygments_lexer": "ipython3",
   "version": "3.7.2"
  }
 },
 "nbformat": 4,
 "nbformat_minor": 2
}
